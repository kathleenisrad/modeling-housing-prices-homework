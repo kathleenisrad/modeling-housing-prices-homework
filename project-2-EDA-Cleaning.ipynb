{
 "cells": [
  {
   "cell_type": "markdown",
   "metadata": {},
   "source": [
    "# EDA and Data Cleaning "
   ]
  },
  {
   "cell_type": "markdown",
   "metadata": {},
   "source": [
    "## Import libraries and training and testing datasets"
   ]
  },
  {
   "cell_type": "code",
   "execution_count": 3,
   "metadata": {},
   "outputs": [],
   "source": [
    "import pandas as pd\n",
    "import numpy as np\n",
    "import seaborn as sns\n",
    "import matplotlib.pyplot as plt"
   ]
  },
  {
   "cell_type": "code",
   "execution_count": 4,
   "metadata": {},
   "outputs": [],
   "source": [
    "house = pd.read_csv('./datasets/train.csv')\n",
    "test = pd.read_csv('./datasets/test.csv')"
   ]
  },
  {
   "cell_type": "code",
   "execution_count": 5,
   "metadata": {},
   "outputs": [
    {
     "data": {
      "text/plain": [
       "Id                int64\n",
       "PID               int64\n",
       "MS SubClass       int64\n",
       "MS Zoning        object\n",
       "Lot Frontage    float64\n",
       "                 ...   \n",
       "Misc Val          int64\n",
       "Mo Sold           int64\n",
       "Yr Sold           int64\n",
       "Sale Type        object\n",
       "SalePrice         int64\n",
       "Length: 81, dtype: object"
      ]
     },
     "execution_count": 5,
     "metadata": {},
     "output_type": "execute_result"
    }
   ],
   "source": [
    "#look at datatypes\n",
    "house.dtypes"
   ]
  },
  {
   "cell_type": "code",
   "execution_count": 6,
   "metadata": {},
   "outputs": [
    {
     "data": {
      "text/plain": [
       "Id                int64\n",
       "PID               int64\n",
       "MS SubClass       int64\n",
       "MS Zoning        object\n",
       "Lot Frontage    float64\n",
       "                 ...   \n",
       "Misc Feature     object\n",
       "Misc Val          int64\n",
       "Mo Sold           int64\n",
       "Yr Sold           int64\n",
       "Sale Type        object\n",
       "Length: 80, dtype: object"
      ]
     },
     "execution_count": 6,
     "metadata": {},
     "output_type": "execute_result"
    }
   ],
   "source": [
    "test.dtypes"
   ]
  },
  {
   "cell_type": "code",
   "execution_count": 7,
   "metadata": {},
   "outputs": [
    {
     "data": {
      "text/html": [
       "<div>\n",
       "<style scoped>\n",
       "    .dataframe tbody tr th:only-of-type {\n",
       "        vertical-align: middle;\n",
       "    }\n",
       "\n",
       "    .dataframe tbody tr th {\n",
       "        vertical-align: top;\n",
       "    }\n",
       "\n",
       "    .dataframe thead th {\n",
       "        text-align: right;\n",
       "    }\n",
       "</style>\n",
       "<table border=\"1\" class=\"dataframe\">\n",
       "  <thead>\n",
       "    <tr style=\"text-align: right;\">\n",
       "      <th></th>\n",
       "      <th>Id</th>\n",
       "      <th>PID</th>\n",
       "      <th>MS SubClass</th>\n",
       "      <th>MS Zoning</th>\n",
       "      <th>Lot Frontage</th>\n",
       "      <th>Lot Area</th>\n",
       "      <th>Street</th>\n",
       "      <th>Alley</th>\n",
       "      <th>Lot Shape</th>\n",
       "      <th>Land Contour</th>\n",
       "      <th>...</th>\n",
       "      <th>Screen Porch</th>\n",
       "      <th>Pool Area</th>\n",
       "      <th>Pool QC</th>\n",
       "      <th>Fence</th>\n",
       "      <th>Misc Feature</th>\n",
       "      <th>Misc Val</th>\n",
       "      <th>Mo Sold</th>\n",
       "      <th>Yr Sold</th>\n",
       "      <th>Sale Type</th>\n",
       "      <th>SalePrice</th>\n",
       "    </tr>\n",
       "  </thead>\n",
       "  <tbody>\n",
       "    <tr>\n",
       "      <th>0</th>\n",
       "      <td>109</td>\n",
       "      <td>533352170</td>\n",
       "      <td>60</td>\n",
       "      <td>RL</td>\n",
       "      <td>NaN</td>\n",
       "      <td>13517</td>\n",
       "      <td>Pave</td>\n",
       "      <td>NaN</td>\n",
       "      <td>IR1</td>\n",
       "      <td>Lvl</td>\n",
       "      <td>...</td>\n",
       "      <td>0</td>\n",
       "      <td>0</td>\n",
       "      <td>NaN</td>\n",
       "      <td>NaN</td>\n",
       "      <td>NaN</td>\n",
       "      <td>0</td>\n",
       "      <td>3</td>\n",
       "      <td>2010</td>\n",
       "      <td>WD</td>\n",
       "      <td>130500</td>\n",
       "    </tr>\n",
       "    <tr>\n",
       "      <th>1</th>\n",
       "      <td>544</td>\n",
       "      <td>531379050</td>\n",
       "      <td>60</td>\n",
       "      <td>RL</td>\n",
       "      <td>43.0</td>\n",
       "      <td>11492</td>\n",
       "      <td>Pave</td>\n",
       "      <td>NaN</td>\n",
       "      <td>IR1</td>\n",
       "      <td>Lvl</td>\n",
       "      <td>...</td>\n",
       "      <td>0</td>\n",
       "      <td>0</td>\n",
       "      <td>NaN</td>\n",
       "      <td>NaN</td>\n",
       "      <td>NaN</td>\n",
       "      <td>0</td>\n",
       "      <td>4</td>\n",
       "      <td>2009</td>\n",
       "      <td>WD</td>\n",
       "      <td>220000</td>\n",
       "    </tr>\n",
       "    <tr>\n",
       "      <th>2</th>\n",
       "      <td>153</td>\n",
       "      <td>535304180</td>\n",
       "      <td>20</td>\n",
       "      <td>RL</td>\n",
       "      <td>68.0</td>\n",
       "      <td>7922</td>\n",
       "      <td>Pave</td>\n",
       "      <td>NaN</td>\n",
       "      <td>Reg</td>\n",
       "      <td>Lvl</td>\n",
       "      <td>...</td>\n",
       "      <td>0</td>\n",
       "      <td>0</td>\n",
       "      <td>NaN</td>\n",
       "      <td>NaN</td>\n",
       "      <td>NaN</td>\n",
       "      <td>0</td>\n",
       "      <td>1</td>\n",
       "      <td>2010</td>\n",
       "      <td>WD</td>\n",
       "      <td>109000</td>\n",
       "    </tr>\n",
       "    <tr>\n",
       "      <th>3</th>\n",
       "      <td>318</td>\n",
       "      <td>916386060</td>\n",
       "      <td>60</td>\n",
       "      <td>RL</td>\n",
       "      <td>73.0</td>\n",
       "      <td>9802</td>\n",
       "      <td>Pave</td>\n",
       "      <td>NaN</td>\n",
       "      <td>Reg</td>\n",
       "      <td>Lvl</td>\n",
       "      <td>...</td>\n",
       "      <td>0</td>\n",
       "      <td>0</td>\n",
       "      <td>NaN</td>\n",
       "      <td>NaN</td>\n",
       "      <td>NaN</td>\n",
       "      <td>0</td>\n",
       "      <td>4</td>\n",
       "      <td>2010</td>\n",
       "      <td>WD</td>\n",
       "      <td>174000</td>\n",
       "    </tr>\n",
       "    <tr>\n",
       "      <th>4</th>\n",
       "      <td>255</td>\n",
       "      <td>906425045</td>\n",
       "      <td>50</td>\n",
       "      <td>RL</td>\n",
       "      <td>82.0</td>\n",
       "      <td>14235</td>\n",
       "      <td>Pave</td>\n",
       "      <td>NaN</td>\n",
       "      <td>IR1</td>\n",
       "      <td>Lvl</td>\n",
       "      <td>...</td>\n",
       "      <td>0</td>\n",
       "      <td>0</td>\n",
       "      <td>NaN</td>\n",
       "      <td>NaN</td>\n",
       "      <td>NaN</td>\n",
       "      <td>0</td>\n",
       "      <td>3</td>\n",
       "      <td>2010</td>\n",
       "      <td>WD</td>\n",
       "      <td>138500</td>\n",
       "    </tr>\n",
       "  </tbody>\n",
       "</table>\n",
       "<p>5 rows × 81 columns</p>\n",
       "</div>"
      ],
      "text/plain": [
       "    Id        PID  MS SubClass MS Zoning  Lot Frontage  Lot Area Street Alley  \\\n",
       "0  109  533352170           60        RL           NaN     13517   Pave   NaN   \n",
       "1  544  531379050           60        RL          43.0     11492   Pave   NaN   \n",
       "2  153  535304180           20        RL          68.0      7922   Pave   NaN   \n",
       "3  318  916386060           60        RL          73.0      9802   Pave   NaN   \n",
       "4  255  906425045           50        RL          82.0     14235   Pave   NaN   \n",
       "\n",
       "  Lot Shape Land Contour  ... Screen Porch Pool Area Pool QC Fence  \\\n",
       "0       IR1          Lvl  ...            0         0     NaN   NaN   \n",
       "1       IR1          Lvl  ...            0         0     NaN   NaN   \n",
       "2       Reg          Lvl  ...            0         0     NaN   NaN   \n",
       "3       Reg          Lvl  ...            0         0     NaN   NaN   \n",
       "4       IR1          Lvl  ...            0         0     NaN   NaN   \n",
       "\n",
       "  Misc Feature Misc Val Mo Sold Yr Sold  Sale Type  SalePrice  \n",
       "0          NaN        0       3    2010        WD      130500  \n",
       "1          NaN        0       4    2009        WD      220000  \n",
       "2          NaN        0       1    2010        WD      109000  \n",
       "3          NaN        0       4    2010        WD      174000  \n",
       "4          NaN        0       3    2010        WD      138500  \n",
       "\n",
       "[5 rows x 81 columns]"
      ]
     },
     "execution_count": 7,
     "metadata": {},
     "output_type": "execute_result"
    }
   ],
   "source": [
    "#look at what's in the dataframe\n",
    "house.head()"
   ]
  },
  {
   "cell_type": "code",
   "execution_count": 8,
   "metadata": {
    "scrolled": true
   },
   "outputs": [],
   "source": [
    "#rename the columns; make everything lowercase and replace spaces with underscores\n",
    "house.columns = house.columns.map(lambda x: x.lower().replace(' ', '_'))"
   ]
  },
  {
   "cell_type": "code",
   "execution_count": 9,
   "metadata": {},
   "outputs": [],
   "source": [
    "#do the same for the test dataset\n",
    "test.columns = test.columns.map(lambda x: x.lower().replace(' ', '_'))"
   ]
  },
  {
   "cell_type": "markdown",
   "metadata": {},
   "source": [
    "## Looking for and dealing with NaNs"
   ]
  },
  {
   "cell_type": "code",
   "execution_count": 10,
   "metadata": {
    "scrolled": false
   },
   "outputs": [
    {
     "data": {
      "text/plain": [
       "pool_qc           2042\n",
       "misc_feature      1986\n",
       "alley             1911\n",
       "fence             1651\n",
       "fireplace_qu      1000\n",
       "lot_frontage       330\n",
       "garage_finish      114\n",
       "garage_cond        114\n",
       "garage_qual        114\n",
       "garage_yr_blt      114\n",
       "garage_type        113\n",
       "bsmt_exposure       58\n",
       "bsmtfin_type_2      56\n",
       "bsmtfin_type_1      55\n",
       "bsmt_cond           55\n",
       "bsmt_qual           55\n",
       "mas_vnr_type        22\n",
       "mas_vnr_area        22\n",
       "bsmt_half_bath       2\n",
       "bsmt_full_bath       2\n",
       "garage_cars          1\n",
       "garage_area          1\n",
       "bsmt_unf_sf          1\n",
       "bsmtfin_sf_2         1\n",
       "total_bsmt_sf        1\n",
       "bsmtfin_sf_1         1\n",
       "overall_cond         0\n",
       "exterior_2nd         0\n",
       "exterior_1st         0\n",
       "roof_matl            0\n",
       "dtype: int64"
      ]
     },
     "execution_count": 10,
     "metadata": {},
     "output_type": "execute_result"
    }
   ],
   "source": [
    "#look at missing values\n",
    "house.isnull().sum().sort_values(ascending=False).head(30)"
   ]
  },
  {
   "cell_type": "code",
   "execution_count": 11,
   "metadata": {},
   "outputs": [
    {
     "data": {
      "text/plain": [
       "pool_qc           874\n",
       "misc_feature      837\n",
       "alley             820\n",
       "fence             706\n",
       "fireplace_qu      422\n",
       "lot_frontage      160\n",
       "garage_cond        45\n",
       "garage_qual        45\n",
       "garage_yr_blt      45\n",
       "garage_finish      45\n",
       "garage_type        44\n",
       "bsmt_exposure      25\n",
       "bsmtfin_type_1     25\n",
       "bsmt_qual          25\n",
       "bsmtfin_type_2     25\n",
       "bsmt_cond          25\n",
       "mas_vnr_area        1\n",
       "mas_vnr_type        1\n",
       "electrical          1\n",
       "overall_cond        0\n",
       "dtype: int64"
      ]
     },
     "execution_count": 11,
     "metadata": {},
     "output_type": "execute_result"
    }
   ],
   "source": [
    "test.isnull().sum().sort_values(ascending=False).head(20)"
   ]
  },
  {
   "cell_type": "markdown",
   "metadata": {},
   "source": [
    "### Looks like there are 26 columns with missing values in the training, and 19 columns with missing values in the testing dataset.\n",
    "\n",
    "According to the data dictionary/codebook online, an NA in these categories indicate that the feature does not exist:\n",
    "\n",
    "    - alley\n",
    "    - bsmt_exposure       \n",
    "    - bsmtfin_type_2      \n",
    "    - bsmtfin_type_1      \n",
    "    - bsmt_cond           \n",
    "    - bsmt_qual \n",
    "    - bsmt_half_bath   \n",
    "    - bsmt_full_bath\n",
    "    - bsmt_unf_sf \n",
    "    - bsmtfin_sf_2 \n",
    "    - total_bsmt_sf\n",
    "    - bsmtfin_sf_1 \n",
    "    - fence          \n",
    "    - fireplace_qu\n",
    "    - garage_cond\n",
    "    - garage_qual        \n",
    "    - garage_yr_blt      \n",
    "    - garage_finish      \n",
    "    - garage_type   \n",
    "    - garage_cars       \n",
    "    - garage_area\n",
    "    - pool_qc          \n",
    "    - misc_feature \n",
    "\n",
    "\n",
    "Codebook says they use None to indicate there is no mas_vnr_area, so a NaN in mas_vnr_area should be changed to None\n",
    "\n",
    "The two remaining categories unaccounted for are:\n",
    "\n",
    "    - electrical (only in the testing data)\n",
    "    - lot_frontage\n",
    "\n",
    "## First, taking a look at the nulls in electrical and lot_frontage:"
   ]
  },
  {
   "cell_type": "code",
   "execution_count": 12,
   "metadata": {},
   "outputs": [
    {
     "data": {
      "text/plain": [
       "SBrkr    1868\n",
       "FuseA     140\n",
       "FuseF      35\n",
       "FuseP       7\n",
       "Mix         1\n",
       "Name: electrical, dtype: int64"
      ]
     },
     "execution_count": 12,
     "metadata": {},
     "output_type": "execute_result"
    }
   ],
   "source": [
    "# what is the distribution of the electrical types in the dataset:\n",
    "\n",
    "house['electrical'].value_counts()"
   ]
  },
  {
   "cell_type": "code",
   "execution_count": 13,
   "metadata": {},
   "outputs": [
    {
     "data": {
      "text/plain": [
       "SBrkr    813\n",
       "FuseA     48\n",
       "FuseF     15\n",
       "FuseP      1\n",
       "Name: electrical, dtype: int64"
      ]
     },
     "execution_count": 13,
     "metadata": {},
     "output_type": "execute_result"
    }
   ],
   "source": [
    "test['electrical'].value_counts()"
   ]
  },
  {
   "cell_type": "markdown",
   "metadata": {},
   "source": [
    "## The electrical type is mostly circuit breaker, so since there is only one missing electrical value, I'm just going to make that one a circuit breaker"
   ]
  },
  {
   "cell_type": "code",
   "execution_count": 14,
   "metadata": {},
   "outputs": [],
   "source": [
    "test['electrical'] = test['electrical'].fillna('SBrkr')"
   ]
  },
  {
   "cell_type": "code",
   "execution_count": 15,
   "metadata": {},
   "outputs": [
    {
     "data": {
      "text/plain": [
       "0"
      ]
     },
     "execution_count": 15,
     "metadata": {},
     "output_type": "execute_result"
    }
   ],
   "source": [
    "test['electrical'].isnull().sum()"
   ]
  },
  {
   "cell_type": "markdown",
   "metadata": {},
   "source": [
    "## Now, looking at lot_frontage.\n",
    "The codebook says that lot frontage means \"Linear feet of street connected to property\". It doesn't specify that there should be a null value."
   ]
  },
  {
   "cell_type": "code",
   "execution_count": 16,
   "metadata": {},
   "outputs": [
    {
     "data": {
      "text/plain": [
       "count    1721.000000\n",
       "mean       69.055200\n",
       "std        23.260653\n",
       "min        21.000000\n",
       "25%        58.000000\n",
       "50%        68.000000\n",
       "75%        80.000000\n",
       "max       313.000000\n",
       "Name: lot_frontage, dtype: float64"
      ]
     },
     "execution_count": 16,
     "metadata": {},
     "output_type": "execute_result"
    }
   ],
   "source": [
    "house['lot_frontage'].describe()"
   ]
  },
  {
   "cell_type": "markdown",
   "metadata": {},
   "source": [
    "And when I looked at the minimum value (above), it wasn't zero. \n",
    "Also, I looked at a map of Ames and it doesn't seem like a house in that area would not have a street connected to it.\n",
    "Therefore, I want to replace it with either the median of all the other properties. "
   ]
  },
  {
   "cell_type": "code",
   "execution_count": 17,
   "metadata": {},
   "outputs": [],
   "source": [
    "#replace nans with median lot frontage\n",
    "house['lot_frontage'] = house['lot_frontage'].fillna(house['lot_frontage'].median())"
   ]
  },
  {
   "cell_type": "code",
   "execution_count": 18,
   "metadata": {},
   "outputs": [],
   "source": [
    "# these values are missing from the test one too so I'll fix that here\n",
    "test['lot_frontage'] = test['lot_frontage'].fillna(test['lot_frontage'].median())"
   ]
  },
  {
   "cell_type": "markdown",
   "metadata": {},
   "source": [
    "## Dealing with the NaNs in the list of columns I made earlier\n",
    "I'm going through them one by one.\n",
    "\n",
    "### Alley"
   ]
  },
  {
   "cell_type": "code",
   "execution_count": 19,
   "metadata": {},
   "outputs": [
    {
     "data": {
      "text/plain": [
       "Grvl    85\n",
       "Pave    55\n",
       "Name: alley, dtype: int64"
      ]
     },
     "execution_count": 19,
     "metadata": {},
     "output_type": "execute_result"
    }
   ],
   "source": [
    "#looking at the alley column:\n",
    "\n",
    "house['alley'].value_counts()"
   ]
  },
  {
   "cell_type": "code",
   "execution_count": 20,
   "metadata": {},
   "outputs": [
    {
     "data": {
      "text/plain": [
       "1911"
      ]
     },
     "execution_count": 20,
     "metadata": {},
     "output_type": "execute_result"
    }
   ],
   "source": [
    "house['alley'].isnull().sum()"
   ]
  },
  {
   "cell_type": "code",
   "execution_count": 21,
   "metadata": {},
   "outputs": [
    {
     "data": {
      "text/plain": [
       "(2051,)"
      ]
     },
     "execution_count": 21,
     "metadata": {},
     "output_type": "execute_result"
    }
   ],
   "source": [
    "house['alley'].shape"
   ]
  },
  {
   "cell_type": "code",
   "execution_count": 22,
   "metadata": {},
   "outputs": [],
   "source": [
    "# most of the houses don't have alleys, but it might make a difference.\n",
    "# I'm replacing the NaNs with no_alley in both the training and the testing sets\n",
    "# so that I can have dummy columns later\n",
    "\n",
    "house['alley'] = house['alley'].fillna('no_alley')\n",
    "test['alley'] = test['alley'].fillna('no_alley')"
   ]
  },
  {
   "cell_type": "markdown",
   "metadata": {},
   "source": [
    "## Basement features\n",
    "some of these features are quantitative, and the others are qualititative:\n",
    "\n",
    "qualitative features:\n",
    "- bsmt_exposure       \n",
    "- bsmtfin_type_2      \n",
    "- bsmtfin_type_1      \n",
    "- bsmt_cond           \n",
    "- bsmt_qual \n",
    "\n",
    "quantitative features:\n",
    "- bsmt_half_bath   \n",
    "- bsmt_full_bath\n",
    "- bsmt_unf_sf \n",
    "- bsmtfin_sf_2 \n",
    "- total_bsmt_sf\n",
    "- bsmtfin_sf_1 \n",
    "\n",
    "so for the qualitative ones, I will replace nans with 'no_basement' and the quantitative ones, I will replace nans with 0"
   ]
  },
  {
   "cell_type": "code",
   "execution_count": 23,
   "metadata": {},
   "outputs": [],
   "source": [
    "basement1 = ['bsmt_exposure', 'bsmtfin_type_2', 'bsmtfin_type_1', 'bsmt_cond', 'bsmt_qual']\n",
    "basement2 = ['bsmt_half_bath', 'bsmt_full_bath', 'bsmt_unf_sf', 'bsmtfin_sf_2', 'total_bsmt_sf', 'bsmtfin_sf_1']\n",
    "\n",
    "#replace nans in training\n",
    "house[basement1] = house[basement1].fillna('no_basement')\n",
    "house[basement2] = house[basement2].fillna(0)\n",
    "\n",
    "#replace nans in testing\n",
    "test[basement1] = test[basement1].fillna('no_basement')\n",
    "test[basement2] = test[basement2].fillna(0)"
   ]
  },
  {
   "cell_type": "markdown",
   "metadata": {},
   "source": [
    "## Fence\n",
    "Replace NaNs in training and testing with 'no_fence'"
   ]
  },
  {
   "cell_type": "code",
   "execution_count": 24,
   "metadata": {},
   "outputs": [],
   "source": [
    "house['fence'] = house['fence'].fillna('no_fence')\n",
    "test['fence'] = test['fence'].fillna('no_fence')"
   ]
  },
  {
   "cell_type": "markdown",
   "metadata": {},
   "source": [
    "## Fireplace\n",
    "\n",
    "Replace NaNs in training and testing with 'no_fire'"
   ]
  },
  {
   "cell_type": "code",
   "execution_count": 25,
   "metadata": {},
   "outputs": [],
   "source": [
    "house['fireplace_qu'] = house['fireplace_qu'].fillna('no_fire')\n",
    "test['fireplace_qu'] = test['fireplace_qu'].fillna('no_fire')"
   ]
  },
  {
   "cell_type": "markdown",
   "metadata": {},
   "source": [
    "## Garage\n",
    "\n",
    "Replace NaNs in training and testing with 'no_garage' or 0s, depending on if they're qualitative or quantitative."
   ]
  },
  {
   "cell_type": "code",
   "execution_count": 26,
   "metadata": {},
   "outputs": [],
   "source": [
    "garage1 = ['garage_cond', 'garage_qual', 'garage_yr_blt', 'garage_finish', 'garage_type']  \n",
    "garage2 = ['garage_cars','garage_area']\n",
    "\n",
    "#replace nans in training\n",
    "house[garage1] = house[garage1].fillna('no_garage')\n",
    "house[garage2] = house[garage2].fillna(0)\n",
    "\n",
    "#replace nans in testing\n",
    "test[garage1] = test[garage1].fillna('no_garage')\n",
    "test[garage2] = test[garage2].fillna(0)"
   ]
  },
  {
   "cell_type": "markdown",
   "metadata": {},
   "source": [
    "## Pool QC\n",
    "\n",
    "Replace NaNs in training and testing with 'no_pool'"
   ]
  },
  {
   "cell_type": "code",
   "execution_count": 27,
   "metadata": {},
   "outputs": [],
   "source": [
    "house['pool_qc'] = house['pool_qc'].fillna('no_pool')\n",
    "test['pool_qc'] = test['pool_qc'].fillna('no_pool')"
   ]
  },
  {
   "cell_type": "markdown",
   "metadata": {},
   "source": [
    "## Masonry Veneer Type and Area\n",
    "\n",
    "Replace NaNs in type column of training and testing with 'no_veneer'\n",
    "Replace NaNs in area column of training and testing with 0"
   ]
  },
  {
   "cell_type": "code",
   "execution_count": 28,
   "metadata": {},
   "outputs": [],
   "source": [
    "house['mas_vnr_type'] = house['mas_vnr_type'].fillna('no_veneer')\n",
    "test['mas_vnr_type'] = test['mas_vnr_type'].fillna('no_veneer')\n",
    "\n",
    "house['mas_vnr_area'] = house['mas_vnr_area'].fillna(0)\n",
    "test['mas_vnr_area'] = test['mas_vnr_area'].fillna(0)"
   ]
  },
  {
   "cell_type": "markdown",
   "metadata": {},
   "source": [
    "## Misc Features\n",
    "\n",
    "Replace NaNs in training and testing with 'no_extras'"
   ]
  },
  {
   "cell_type": "code",
   "execution_count": 29,
   "metadata": {},
   "outputs": [],
   "source": [
    "house['misc_feature'] = house['misc_feature'].fillna('no_extras')\n",
    "test['misc_feature'] = test['misc_feature'].fillna('no_extras')"
   ]
  },
  {
   "cell_type": "markdown",
   "metadata": {},
   "source": [
    "## Double check everything got filled"
   ]
  },
  {
   "cell_type": "code",
   "execution_count": 30,
   "metadata": {},
   "outputs": [
    {
     "data": {
      "text/plain": [
       "saleprice         0\n",
       "total_bsmt_sf     0\n",
       "year_remod/add    0\n",
       "roof_style        0\n",
       "roof_matl         0\n",
       "                 ..\n",
       "kitchen_qual      0\n",
       "totrms_abvgrd     0\n",
       "functional        0\n",
       "fireplaces        0\n",
       "id                0\n",
       "Length: 81, dtype: int64"
      ]
     },
     "execution_count": 30,
     "metadata": {},
     "output_type": "execute_result"
    }
   ],
   "source": [
    "house.isnull().sum().sort_values(ascending=False)"
   ]
  },
  {
   "cell_type": "code",
   "execution_count": 31,
   "metadata": {},
   "outputs": [
    {
     "data": {
      "text/plain": [
       "sale_type         0\n",
       "yr_sold           0\n",
       "year_remod/add    0\n",
       "roof_style        0\n",
       "roof_matl         0\n",
       "                 ..\n",
       "kitchen_qual      0\n",
       "totrms_abvgrd     0\n",
       "functional        0\n",
       "fireplaces        0\n",
       "id                0\n",
       "Length: 80, dtype: int64"
      ]
     },
     "execution_count": 31,
     "metadata": {},
     "output_type": "execute_result"
    }
   ],
   "source": [
    "test.isnull().sum().sort_values(ascending=False)"
   ]
  },
  {
   "cell_type": "markdown",
   "metadata": {},
   "source": [
    "## Not all numbers should be treated as numerical\n",
    "Change some number columns into strings because the numbers represent a category that needs to be dummified"
   ]
  },
  {
   "cell_type": "code",
   "execution_count": 32,
   "metadata": {},
   "outputs": [],
   "source": [
    "num_to_string = ['ms_subclass', 'mo_sold', 'yr_sold']\n",
    "\n",
    "house[num_to_string] = house[num_to_string].astype(object)\n",
    "test[num_to_string] = test[num_to_string].astype(object)"
   ]
  },
  {
   "cell_type": "markdown",
   "metadata": {},
   "source": [
    "### Look at the y variable:\n",
    "Here I take a look at the y variable (sale price) and see that it has a bit of a skew. \n",
    "I want to normalize it, so I take the log of it."
   ]
  },
  {
   "cell_type": "code",
   "execution_count": 33,
   "metadata": {},
   "outputs": [
    {
     "data": {
      "text/plain": [
       "(array([ 42., 525., 818., 350., 168.,  79.,  40.,  16.,   6.,   7.]),\n",
       " array([ 12789. ,  72675.8, 132562.6, 192449.4, 252336.2, 312223. ,\n",
       "        372109.8, 431996.6, 491883.4, 551770.2, 611657. ]),\n",
       " <BarContainer object of 10 artists>)"
      ]
     },
     "execution_count": 33,
     "metadata": {},
     "output_type": "execute_result"
    },
    {
     "data": {
      "image/png": "[encoded data removed]",
      "text/plain": [
       "<Figure size 432x288 with 1 Axes>"
      ]
     },
     "metadata": {
      "needs_background": "light"
     },
     "output_type": "display_data"
    }
   ],
   "source": [
    "y = house['saleprice']\n",
    "plt.hist(y)"
   ]
  },
  {
   "cell_type": "code",
   "execution_count": 34,
   "metadata": {},
   "outputs": [],
   "source": [
    "house['logsaleprice'] = np.log(house['saleprice'])"
   ]
  },
  {
   "cell_type": "code",
   "execution_count": 35,
   "metadata": {},
   "outputs": [
    {
     "data": {
      "text/plain": [
       "(array([  2.,   0.,   6.,  13.,  81., 440., 835., 462., 177.,  35.]),\n",
       " array([ 9.45634071,  9.84309933, 10.22985795, 10.61661658, 11.0033752 ,\n",
       "        11.39013383, 11.77689245, 12.16365107, 12.5504097 , 12.93716832,\n",
       "        13.32392695]),\n",
       " <BarContainer object of 10 artists>)"
      ]
     },
     "execution_count": 35,
     "metadata": {},
     "output_type": "execute_result"
    },
    {
     "data": {
      "image/png": "[encoded data removed]",
      "text/plain": [
       "<Figure size 432x288 with 1 Axes>"
      ]
     },
     "metadata": {
      "needs_background": "light"
     },
     "output_type": "display_data"
    }
   ],
   "source": [
    "y = house['logsaleprice']\n",
    "plt.hist(y)"
   ]
  },
  {
   "cell_type": "markdown",
   "metadata": {},
   "source": [
    "### Dummifying everything that isn't numerical, and then dropping the columns that were dummified:"
   ]
  },
  {
   "cell_type": "code",
   "execution_count": 36,
   "metadata": {},
   "outputs": [],
   "source": [
    "dummies = house.select_dtypes('object')"
   ]
  },
  {
   "cell_type": "code",
   "execution_count": 37,
   "metadata": {},
   "outputs": [],
   "source": [
    "dummified = pd.get_dummies(dummies)"
   ]
  },
  {
   "cell_type": "code",
   "execution_count": 38,
   "metadata": {},
   "outputs": [],
   "source": [
    "house = pd.concat([house, dummified], axis=1)"
   ]
  },
  {
   "cell_type": "code",
   "execution_count": 39,
   "metadata": {},
   "outputs": [],
   "source": [
    "house = house.drop(dummies, axis=1)"
   ]
  },
  {
   "cell_type": "markdown",
   "metadata": {},
   "source": [
    "### Do the same thing for the test data"
   ]
  },
  {
   "cell_type": "code",
   "execution_count": 40,
   "metadata": {},
   "outputs": [],
   "source": [
    "test_dummies = test.select_dtypes('object')"
   ]
  },
  {
   "cell_type": "code",
   "execution_count": 41,
   "metadata": {},
   "outputs": [],
   "source": [
    "test_dummified = pd.get_dummies(test_dummies)"
   ]
  },
  {
   "cell_type": "code",
   "execution_count": 42,
   "metadata": {},
   "outputs": [],
   "source": [
    "test = pd.concat([test, test_dummified], axis=1)"
   ]
  },
  {
   "cell_type": "code",
   "execution_count": 43,
   "metadata": {},
   "outputs": [],
   "source": [
    "test = test.drop(test_dummies, axis=1)"
   ]
  },
  {
   "cell_type": "code",
   "execution_count": 44,
   "metadata": {},
   "outputs": [
    {
     "data": {
      "text/plain": [
       "(878, 409)"
      ]
     },
     "execution_count": 44,
     "metadata": {},
     "output_type": "execute_result"
    }
   ],
   "source": [
    "test.shape"
   ]
  },
  {
   "cell_type": "code",
   "execution_count": 45,
   "metadata": {},
   "outputs": [
    {
     "data": {
      "text/plain": [
       "(2051, 438)"
      ]
     },
     "execution_count": 45,
     "metadata": {},
     "output_type": "execute_result"
    }
   ],
   "source": [
    "house.shape"
   ]
  },
  {
   "cell_type": "markdown",
   "metadata": {},
   "source": [
    "### There are more columns in the training set than in the testing set\n",
    "Which columns are different?\n",
    "I'll see if it matters later.\n",
    "\n",
    "Ok it does matter, standard scaler won't work if the two don't have the same number of columns"
   ]
  },
  {
   "cell_type": "code",
   "execution_count": 46,
   "metadata": {},
   "outputs": [],
   "source": [
    "test_name = test.columns"
   ]
  },
  {
   "cell_type": "code",
   "execution_count": 47,
   "metadata": {},
   "outputs": [],
   "source": [
    "house_name = house.columns"
   ]
  },
  {
   "cell_type": "code",
   "execution_count": 48,
   "metadata": {},
   "outputs": [
    {
     "data": {
      "text/plain": [
       "Index(['bsmt_cond_Ex', 'bsmt_cond_Po', 'condition_2_Artery',\n",
       "       'condition_2_PosN', 'condition_2_RRAe', 'condition_2_RRAn',\n",
       "       'condition_2_RRNn', 'electrical_Mix', 'exterior_1st_CBlock',\n",
       "       'exterior_1st_ImStucc', 'exterior_1st_PreCast', 'exterior_1st_Stone',\n",
       "       'exterior_2nd_Other', 'exterior_2nd_PreCast', 'exterior_2nd_Stone',\n",
       "       'functional_Sal', 'functional_Sev', 'garage_qual_Ex',\n",
       "       'garage_yr_blt_1895.0', 'garage_yr_blt_1896.0', 'garage_yr_blt_1906.0',\n",
       "       'garage_yr_blt_1908.0', 'garage_yr_blt_1914.0', 'garage_yr_blt_1919.0',\n",
       "       'garage_yr_blt_1929.0', 'garage_yr_blt_1933.0', 'garage_yr_blt_1936.0',\n",
       "       'garage_yr_blt_1942.0', 'garage_yr_blt_1943.0', 'garage_yr_blt_1945.0',\n",
       "       'garage_yr_blt_2207.0', 'heating_Floor', 'heating_OthW', 'heating_Wall',\n",
       "       'heating_qc_Po', 'kitchen_qual_Po', 'logsaleprice',\n",
       "       'mas_vnr_type_CBlock', 'misc_feature_Elev', 'misc_feature_TenC',\n",
       "       'ms_subclass_150', 'ms_zoning_A (agr)', 'neighborhood_GrnHill',\n",
       "       'neighborhood_Landmrk', 'pool_qc_Fa', 'pool_qc_Gd', 'roof_matl_ClyTile',\n",
       "       'roof_matl_Membran', 'roof_matl_Metal', 'roof_matl_Roll',\n",
       "       'sale_type_VWD', 'saleprice', 'utilities_NoSeWa'],\n",
       "      dtype='object')"
      ]
     },
     "execution_count": 48,
     "metadata": {},
     "output_type": "execute_result"
    }
   ],
   "source": [
    "house_name.symmetric_difference(test_name)"
   ]
  },
  {
   "cell_type": "code",
   "execution_count": 49,
   "metadata": {},
   "outputs": [],
   "source": [
    "test = test.drop(['exterior_1st_PreCast', 'exterior_2nd_Other' ,'exterior_2nd_PreCast', 'garage_yr_blt_1906.0','garage_yr_blt_1908.0', 'garage_yr_blt_1943.0','heating_Floor' ,'kitchen_qual_Po' ,'mas_vnr_type_CBlock' ,'roof_matl_Metal', 'roof_matl_Roll' ,'sale_type_VWD'], axis=1)"
   ]
  },
  {
   "cell_type": "code",
   "execution_count": 50,
   "metadata": {},
   "outputs": [],
   "source": [
    "test_name = test.columns"
   ]
  },
  {
   "cell_type": "code",
   "execution_count": 51,
   "metadata": {},
   "outputs": [
    {
     "data": {
      "text/plain": [
       "Index(['bsmt_cond_Ex', 'bsmt_cond_Po', 'condition_2_Artery',\n",
       "       'condition_2_PosN', 'condition_2_RRAe', 'condition_2_RRAn',\n",
       "       'condition_2_RRNn', 'electrical_Mix', 'exterior_1st_CBlock',\n",
       "       'exterior_1st_ImStucc', 'exterior_1st_Stone', 'exterior_2nd_Stone',\n",
       "       'functional_Sal', 'functional_Sev', 'garage_qual_Ex',\n",
       "       'garage_yr_blt_1895.0', 'garage_yr_blt_1896.0', 'garage_yr_blt_1914.0',\n",
       "       'garage_yr_blt_1919.0', 'garage_yr_blt_1929.0', 'garage_yr_blt_1933.0',\n",
       "       'garage_yr_blt_1936.0', 'garage_yr_blt_1942.0', 'garage_yr_blt_1945.0',\n",
       "       'garage_yr_blt_2207.0', 'heating_OthW', 'heating_Wall', 'heating_qc_Po',\n",
       "       'logsaleprice', 'misc_feature_Elev', 'misc_feature_TenC',\n",
       "       'ms_subclass_150', 'ms_zoning_A (agr)', 'neighborhood_GrnHill',\n",
       "       'neighborhood_Landmrk', 'pool_qc_Fa', 'pool_qc_Gd', 'roof_matl_ClyTile',\n",
       "       'roof_matl_Membran', 'saleprice', 'utilities_NoSeWa'],\n",
       "      dtype='object')"
      ]
     },
     "execution_count": 51,
     "metadata": {},
     "output_type": "execute_result"
    }
   ],
   "source": [
    "house_name.symmetric_difference(test_name)"
   ]
  },
  {
   "cell_type": "code",
   "execution_count": 52,
   "metadata": {},
   "outputs": [],
   "source": [
    "house = house.drop(['bsmt_cond_Ex', 'bsmt_cond_Po', 'condition_2_Artery',\n",
    "       'condition_2_PosN', 'condition_2_RRAe', 'condition_2_RRAn',\n",
    "       'condition_2_RRNn', 'electrical_Mix', 'exterior_1st_CBlock',\n",
    "       'exterior_1st_ImStucc', 'exterior_1st_Stone', 'exterior_2nd_Stone',\n",
    "       'functional_Sal', 'functional_Sev', 'garage_qual_Ex',\n",
    "       'garage_yr_blt_1895.0', 'garage_yr_blt_1896.0', 'garage_yr_blt_1914.0',\n",
    "       'garage_yr_blt_1919.0', 'garage_yr_blt_1929.0', 'garage_yr_blt_1933.0',\n",
    "       'garage_yr_blt_1936.0', 'garage_yr_blt_1942.0', 'garage_yr_blt_1945.0',\n",
    "       'garage_yr_blt_2207.0', 'heating_OthW', 'heating_Wall', 'heating_qc_Po',\n",
    "        'misc_feature_Elev', 'misc_feature_TenC',\n",
    "       'ms_subclass_150', 'ms_zoning_A (agr)', 'neighborhood_GrnHill',\n",
    "       'neighborhood_Landmrk', 'pool_qc_Fa', 'pool_qc_Gd', 'roof_matl_ClyTile',\n",
    "       'roof_matl_Membran', 'utilities_NoSeWa'], axis=1)"
   ]
  },
  {
   "cell_type": "code",
   "execution_count": 53,
   "metadata": {},
   "outputs": [
    {
     "data": {
      "text/plain": [
       "(2051, 399)"
      ]
     },
     "execution_count": 53,
     "metadata": {},
     "output_type": "execute_result"
    }
   ],
   "source": [
    "house.shape"
   ]
  },
  {
   "cell_type": "code",
   "execution_count": 54,
   "metadata": {},
   "outputs": [
    {
     "data": {
      "text/plain": [
       "(878, 397)"
      ]
     },
     "execution_count": 54,
     "metadata": {},
     "output_type": "execute_result"
    }
   ],
   "source": [
    "test.shape"
   ]
  },
  {
   "cell_type": "markdown",
   "metadata": {},
   "source": [
    "## Looking at correlations"
   ]
  },
  {
   "cell_type": "code",
   "execution_count": 55,
   "metadata": {},
   "outputs": [],
   "source": [
    "corr = house.corr()"
   ]
  },
  {
   "cell_type": "code",
   "execution_count": 56,
   "metadata": {},
   "outputs": [
    {
     "data": {
      "text/plain": [
       "saleprice             1.000000\n",
       "logsaleprice          0.946134\n",
       "overall_qual          0.800207\n",
       "gr_liv_area           0.697038\n",
       "garage_area           0.649897\n",
       "garage_cars           0.647781\n",
       "total_bsmt_sf         0.629303\n",
       "1st_flr_sf            0.618486\n",
       "bsmt_qual_Ex          0.586497\n",
       "year_built            0.571849\n",
       "kitchen_qual_Ex       0.551284\n",
       "year_remod/add        0.550370\n",
       "full_bath             0.537969\n",
       "foundation_PConc      0.529047\n",
       "totrms_abvgrd         0.504014\n",
       "mas_vnr_area          0.503579\n",
       "exter_qual_Ex         0.493861\n",
       "fireplaces            0.471093\n",
       "bsmtfin_type_1_GLQ    0.463549\n",
       "heating_qc_Ex         0.453255\n",
       "Name: saleprice, dtype: float64"
      ]
     },
     "execution_count": 56,
     "metadata": {},
     "output_type": "execute_result"
    }
   ],
   "source": [
    "corr.saleprice.sort_values(ascending=False).head(20)"
   ]
  },
  {
   "cell_type": "markdown",
   "metadata": {},
   "source": [
    "#### Let's just keep the features that are either highly positively or negatively correlated\n",
    "ie: get rid of the features that are not correlated with price"
   ]
  },
  {
   "cell_type": "code",
   "execution_count": 55,
   "metadata": {},
   "outputs": [],
   "source": [
    "corr_df = pd.DataFrame(corr.saleprice)"
   ]
  },
  {
   "cell_type": "code",
   "execution_count": 56,
   "metadata": {},
   "outputs": [
    {
     "data": {
      "text/plain": [
       "Index(['lot_frontage', 'lot_area', 'overall_qual', 'year_built',\n",
       "       'year_remod/add', 'mas_vnr_area', 'bsmtfin_sf_1', 'total_bsmt_sf',\n",
       "       '1st_flr_sf', '2nd_flr_sf', 'gr_liv_area', 'bsmt_full_bath',\n",
       "       'full_bath', 'half_bath', 'totrms_abvgrd', 'fireplaces', 'garage_cars',\n",
       "       'garage_area', 'wood_deck_sf', 'open_porch_sf', 'saleprice',\n",
       "       'logsaleprice', 'ms_subclass_60', 'ms_zoning_RL', 'lot_shape_IR1',\n",
       "       'land_contour_HLS', 'neighborhood_NoRidge', 'neighborhood_NridgHt',\n",
       "       'neighborhood_StoneBr', 'house_style_2Story', 'roof_style_Hip',\n",
       "       'exterior_1st_VinylSd', 'exterior_2nd_VinylSd', 'mas_vnr_type_BrkFace',\n",
       "       'mas_vnr_type_Stone', 'exter_qual_Ex', 'exter_qual_Gd',\n",
       "       'foundation_PConc', 'bsmt_qual_Ex', 'bsmt_qual_Gd', 'bsmt_exposure_Gd',\n",
       "       'bsmtfin_type_1_GLQ', 'heating_qc_Ex', 'central_air_Y',\n",
       "       'electrical_SBrkr', 'kitchen_qual_Ex', 'kitchen_qual_Gd',\n",
       "       'fireplace_qu_Ex', 'fireplace_qu_Gd', 'garage_type_Attchd',\n",
       "       'garage_type_BuiltIn', 'garage_yr_blt_2006.0', 'garage_yr_blt_2008.0',\n",
       "       'garage_finish_Fin', 'garage_qual_TA', 'garage_cond_TA',\n",
       "       'paved_drive_Y', 'sale_type_New'],\n",
       "      dtype='object')"
      ]
     },
     "execution_count": 56,
     "metadata": {},
     "output_type": "execute_result"
    }
   ],
   "source": [
    "corr_df[corr_df['saleprice'] > .2].index"
   ]
  },
  {
   "cell_type": "code",
   "execution_count": 57,
   "metadata": {},
   "outputs": [
    {
     "data": {
      "text/plain": [
       "Index(['pid', 'ms_subclass_30', 'ms_zoning_RM', 'lot_shape_Reg',\n",
       "       'neighborhood_OldTown', 'roof_style_Gable', 'mas_vnr_type_None',\n",
       "       'exter_qual_TA', 'foundation_BrkTil', 'foundation_CBlock',\n",
       "       'bsmt_qual_TA', 'bsmt_exposure_No', 'heating_qc_TA', 'central_air_N',\n",
       "       'electrical_FuseA', 'kitchen_qual_TA', 'fireplace_qu_no_fire',\n",
       "       'garage_type_Detchd', 'garage_type_no_garage',\n",
       "       'garage_yr_blt_no_garage', 'garage_finish_Unf',\n",
       "       'garage_finish_no_garage', 'garage_qual_no_garage',\n",
       "       'garage_cond_no_garage', 'paved_drive_N', 'sale_type_WD '],\n",
       "      dtype='object')"
      ]
     },
     "execution_count": 57,
     "metadata": {},
     "output_type": "execute_result"
    }
   ],
   "source": [
    "corr_df[corr_df['saleprice'] < -.2].index"
   ]
  },
  {
   "cell_type": "code",
   "execution_count": 58,
   "metadata": {},
   "outputs": [],
   "source": [
    "corr_features = ['id', 'pid', 'ms_subclass_30', 'ms_zoning_RM', 'lot_shape_Reg',\n",
    "       'neighborhood_OldTown', 'roof_style_Gable', 'mas_vnr_type_None',\n",
    "       'exter_qual_TA', 'foundation_BrkTil', 'foundation_CBlock',\n",
    "       'bsmt_qual_TA', 'bsmt_exposure_No', 'heating_qc_TA', 'central_air_N',\n",
    "       'electrical_FuseA', 'kitchen_qual_TA', 'fireplace_qu_no_fire',\n",
    "       'garage_type_Detchd', 'garage_type_no_garage',\n",
    "       'garage_yr_blt_no_garage', 'garage_finish_Unf',\n",
    "       'garage_finish_no_garage', 'garage_qual_no_garage',\n",
    "       'garage_cond_no_garage', 'paved_drive_N', 'sale_type_WD ', 'lot_frontage', 'lot_area', 'overall_qual', 'year_built',\n",
    "       'year_remod/add', 'mas_vnr_area', 'bsmtfin_sf_1', 'total_bsmt_sf',\n",
    "       '1st_flr_sf', '2nd_flr_sf', 'gr_liv_area', 'bsmt_full_bath',\n",
    "       'full_bath', 'half_bath', 'totrms_abvgrd', 'fireplaces', 'garage_cars',\n",
    "       'garage_area', 'wood_deck_sf', 'open_porch_sf', 'saleprice',\n",
    "       'logsaleprice', 'ms_subclass_60', 'ms_zoning_RL', 'lot_shape_IR1',\n",
    "       'land_contour_HLS', 'neighborhood_NoRidge', 'neighborhood_NridgHt',\n",
    "       'neighborhood_StoneBr', 'house_style_2Story', 'roof_style_Hip',\n",
    "       'exterior_1st_VinylSd', 'exterior_2nd_VinylSd', 'mas_vnr_type_BrkFace',\n",
    "       'mas_vnr_type_Stone', 'exter_qual_Ex', 'exter_qual_Gd',\n",
    "       'foundation_PConc', 'bsmt_qual_Ex', 'bsmt_qual_Gd', 'bsmt_exposure_Gd',\n",
    "       'bsmtfin_type_1_GLQ', 'heating_qc_Ex', 'central_air_Y',\n",
    "       'electrical_SBrkr', 'kitchen_qual_Ex', 'kitchen_qual_Gd',\n",
    "       'fireplace_qu_Ex', 'fireplace_qu_Gd', 'garage_type_Attchd',\n",
    "       'garage_type_BuiltIn', 'garage_yr_blt_2006.0', 'garage_yr_blt_2008.0',\n",
    "       'garage_finish_Fin', 'garage_qual_TA', 'garage_cond_TA',\n",
    "       'paved_drive_Y', 'sale_type_New']\n",
    "test_features = ['id', 'pid', 'ms_subclass_30', 'ms_zoning_RM', 'lot_shape_Reg',\n",
    "       'neighborhood_OldTown', 'roof_style_Gable', 'mas_vnr_type_None',\n",
    "       'exter_qual_TA', 'foundation_BrkTil', 'foundation_CBlock',\n",
    "       'bsmt_qual_TA', 'bsmt_exposure_No', 'heating_qc_TA', 'central_air_N',\n",
    "       'electrical_FuseA', 'kitchen_qual_TA', 'fireplace_qu_no_fire',\n",
    "       'garage_type_Detchd', 'garage_type_no_garage',\n",
    "       'garage_yr_blt_no_garage', 'garage_finish_Unf',\n",
    "       'garage_finish_no_garage', 'garage_qual_no_garage',\n",
    "       'garage_cond_no_garage', 'paved_drive_N', 'sale_type_WD ', 'lot_frontage', 'lot_area', 'overall_qual', 'year_built',\n",
    "       'year_remod/add', 'mas_vnr_area', 'bsmtfin_sf_1', 'total_bsmt_sf',\n",
    "       '1st_flr_sf', '2nd_flr_sf', 'gr_liv_area', 'bsmt_full_bath',\n",
    "       'full_bath', 'half_bath', 'totrms_abvgrd', 'fireplaces', 'garage_cars',\n",
    "       'garage_area', 'wood_deck_sf', 'open_porch_sf', 'ms_subclass_60', 'ms_zoning_RL', 'lot_shape_IR1',\n",
    "       'land_contour_HLS', 'neighborhood_NoRidge', 'neighborhood_NridgHt',\n",
    "       'neighborhood_StoneBr', 'house_style_2Story', 'roof_style_Hip',\n",
    "       'exterior_1st_VinylSd', 'exterior_2nd_VinylSd', 'mas_vnr_type_BrkFace',\n",
    "       'mas_vnr_type_Stone', 'exter_qual_Ex', 'exter_qual_Gd',\n",
    "       'foundation_PConc', 'bsmt_qual_Ex', 'bsmt_qual_Gd', 'bsmt_exposure_Gd',\n",
    "       'bsmtfin_type_1_GLQ', 'heating_qc_Ex', 'central_air_Y',\n",
    "       'electrical_SBrkr', 'kitchen_qual_Ex', 'kitchen_qual_Gd',\n",
    "       'fireplace_qu_Ex', 'fireplace_qu_Gd', 'garage_type_Attchd',\n",
    "       'garage_type_BuiltIn', 'garage_yr_blt_2006.0', 'garage_yr_blt_2008.0',\n",
    "       'garage_finish_Fin', 'garage_qual_TA', 'garage_cond_TA']\n",
    "\n",
    "house_corr = house[corr_features]\n",
    "test_corr = test[test_features]"
   ]
  },
  {
   "cell_type": "code",
   "execution_count": 59,
   "metadata": {},
   "outputs": [
    {
     "data": {
      "text/plain": [
       "(2051, 85)"
      ]
     },
     "execution_count": 59,
     "metadata": {},
     "output_type": "execute_result"
    }
   ],
   "source": [
    "house_corr.shape"
   ]
  },
  {
   "cell_type": "code",
   "execution_count": 60,
   "metadata": {},
   "outputs": [
    {
     "data": {
      "text/plain": [
       "(878, 81)"
      ]
     },
     "execution_count": 60,
     "metadata": {},
     "output_type": "execute_result"
    }
   ],
   "source": [
    "test_corr.shape"
   ]
  },
  {
   "cell_type": "code",
   "execution_count": 61,
   "metadata": {},
   "outputs": [],
   "source": [
    "house_corr_name = house_corr.columns\n",
    "test_corr_name = test_corr.columns"
   ]
  },
  {
   "cell_type": "code",
   "execution_count": 62,
   "metadata": {},
   "outputs": [
    {
     "data": {
      "text/plain": [
       "Index(['logsaleprice', 'paved_drive_Y', 'sale_type_New', 'saleprice'], dtype='object')"
      ]
     },
     "execution_count": 62,
     "metadata": {},
     "output_type": "execute_result"
    }
   ],
   "source": [
    "house_corr_name.symmetric_difference(test_corr_name)"
   ]
  },
  {
   "cell_type": "code",
   "execution_count": 63,
   "metadata": {},
   "outputs": [],
   "source": [
    "house_corr = house_corr.drop(['paved_drive_Y', 'sale_type_New'], axis=1)"
   ]
  },
  {
   "cell_type": "markdown",
   "metadata": {},
   "source": [
    "### Saving the cleaned datasets"
   ]
  },
  {
   "cell_type": "code",
   "execution_count": 64,
   "metadata": {},
   "outputs": [],
   "source": [
    "house.to_csv('./datasets/house_clean.csv')\n",
    "test.to_csv('./datasets/test_clean.csv')"
   ]
  },
  {
   "cell_type": "code",
   "execution_count": 65,
   "metadata": {},
   "outputs": [],
   "source": [
    "house_corr.to_csv('./datasets/house_corr_features.csv')\n",
    "test_corr.to_csv('./datasets/test_corr_features.csv')"
   ]
  }
 ],
 "metadata": {
  "kernelspec": {
   "display_name": "Python 3",
   "language": "python",
   "name": "python3"
  },
  "language_info": {
   "codemirror_mode": {
    "name": "ipython",
    "version": 3
   },
   "file_extension": ".py",
   "mimetype": "text/x-python",
   "name": "python",
   "nbconvert_exporter": "python",
   "pygments_lexer": "ipython3",
   "version": "3.8.5"
  }
 },
 "nbformat": 4,
 "nbformat_minor": 4
}
